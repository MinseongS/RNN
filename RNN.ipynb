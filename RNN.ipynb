{
  "nbformat": 4,
  "nbformat_minor": 0,
  "metadata": {
    "colab": {
      "name": "RNN.ipynb",
      "provenance": []
    },
    "kernelspec": {
      "name": "python3",
      "display_name": "Python 3"
    },
    "language_info": {
      "name": "python"
    },
    "accelerator": "GPU"
  },
  "cells": [
    {
      "cell_type": "markdown",
      "metadata": {
        "id": "pdy_PbGcN7o-"
      },
      "source": [
        "# (1) Import"
      ]
    },
    {
      "cell_type": "code",
      "metadata": {
        "id": "08xiNTkBNtHn"
      },
      "source": [
        "import torch\n",
        "import torch.nn as nn\n",
        "import torchvision.datasets as dset\n",
        "import torchvision.transforms as transforms\n",
        "import matplotlib.pyplot as plt\n",
        "from torch.autograd import Variable"
      ],
      "execution_count": 39,
      "outputs": []
    },
    {
      "cell_type": "markdown",
      "metadata": {
        "id": "uPxfqOZjN_Bd"
      },
      "source": [
        "# (2) parameters\n"
      ]
    },
    {
      "cell_type": "code",
      "metadata": {
        "id": "g70iNCOtN7JS"
      },
      "source": [
        "sequence_length = 28\n",
        "input_size = 28\n",
        "hidden_size = 128\n",
        "num_layers = 2\n",
        "\n",
        "num_classes = 10\n",
        "batch_size = 100\n",
        "num_epochs = 2\n",
        "learning_rate = 0.01"
      ],
      "execution_count": 40,
      "outputs": []
    },
    {
      "cell_type": "code",
      "metadata": {
        "id": "F08yHvQmOKZy"
      },
      "source": [
        "device = 'cuda'"
      ],
      "execution_count": 41,
      "outputs": []
    },
    {
      "cell_type": "markdown",
      "metadata": {
        "id": "uAwM-zBWOQ4t"
      },
      "source": [
        "# (3) data loading"
      ]
    },
    {
      "cell_type": "code",
      "metadata": {
        "id": "GhhEwNd_OQEH"
      },
      "source": [
        "mnist_train = dset.MNIST(\"\", train=True, transform=transforms.ToTensor(),\n",
        "                         target_transform=None, download=True)\n",
        "\n",
        "mnist_test = dset.MNIST(\"\", train=False, transform=transforms.ToTensor(),\n",
        "                        target_transform=None, download=True)"
      ],
      "execution_count": 42,
      "outputs": []
    },
    {
      "cell_type": "code",
      "metadata": {
        "id": "Qi3N3tWPgISB"
      },
      "source": [
        "train_loader = torch.utils.data.DataLoader(dataset=mnist_train,\n",
        "                                           batch_size=batch_size,\n",
        "                                           shuffle=True,\n",
        "                                           drop_last=True)\n",
        "test_loader = torch.utils.data.DataLoader(dataset=mnist_test,\n",
        "                                          batch_size=batch_size,\n",
        "                                          shuffle=False,\n",
        "                                          drop_last=True)"
      ],
      "execution_count": 43,
      "outputs": []
    },
    {
      "cell_type": "code",
      "metadata": {
        "colab": {
          "base_uri": "https://localhost:8080/",
          "height": 353
        },
        "id": "VCtDgp4aOlMZ",
        "outputId": "0cbec248-de10-45cf-ff32-0af9f1368e82"
      },
      "source": [
        "print(\"mnist_train 길이:\", len(mnist_train))\n",
        "print(\"mnist_test 길이:\", len(mnist_test))\n",
        "\n",
        "image, label = mnist_train.__getitem__(0)\n",
        "print(\"image data 형태:\", image.size())\n",
        "print(\"label:\", label)\n",
        "\n",
        "img = image.numpy()\n",
        "plt.title(f\"label:{label}\")\n",
        "plt.imshow(img[0], cmap='gray')\n",
        "plt.show()"
      ],
      "execution_count": 44,
      "outputs": [
        {
          "output_type": "stream",
          "text": [
            "mnist_train 길이: 60000\n",
            "mnist_test 길이: 10000\n",
            "image data 형태: torch.Size([1, 28, 28])\n",
            "label: 5\n"
          ],
          "name": "stdout"
        },
        {
          "output_type": "display_data",
          "data": {
            "image/png": "[encoded data removed]",
            "text/plain": [
              "<Figure size 432x288 with 1 Axes>"
            ]
          },
          "metadata": {
            "tags": [],
            "needs_background": "light"
          }
        }
      ]
    },
    {
      "cell_type": "markdown",
      "metadata": {
        "id": "2ugORR6fQEKA"
      },
      "source": [
        "# (4) Model"
      ]
    },
    {
      "cell_type": "code",
      "metadata": {
        "id": "42i84OIBP_cB"
      },
      "source": [
        "class RNN(nn.Module):\n",
        "  def __init__(self, input_size, hidden_size, num_layers, num_classes):\n",
        "    super(RNN, self).__init__()\n",
        "    self.hidden_size = hidden_size\n",
        "    self.num_layers = num_layers\n",
        "    self.lstm = nn.LSTM(input_size, hidden_size, num_layers, batch_first=True)\n",
        "    self.fc = nn.Linear(hidden_size, num_classes)\n",
        "\n",
        "  def forward(self, x):\n",
        "    # input tensor: (batch_size, seq_length, input_size)\n",
        "    # x: (100, 28, 28)\n",
        "    \n",
        "    # hidden state tensor: (num_layers, batch_size, hidden_size)\n",
        "    # h: (2, 100, 128)\n",
        "    h0 = torch.zeros(self.num_layers, x.shape[0], self.hidden_size).to(device)\n",
        "    c0 = torch.zeros(self.num_layers, x.shape[0], self.hidden_size).to(device)\n",
        "\n",
        "    # Forward propagets LSTM\n",
        "    # output tensor: (batch_size, seq_length, hidden_size)\n",
        "    # out: (100, 28, 28)\n",
        "    \n",
        "    out, _ = self.lstm(x, (h0, c0))\n",
        "\n",
        "    # 28th output layer : (batch_size, hidden_size)\n",
        "    # out[:, -1, :]: (100, 128)\n",
        "\n",
        "    out = self.fc(out[:, -1, :])\n",
        "    # y^: (batch_size, num_classes)\n",
        "    # y_pred: (100, 10)\n",
        "\n",
        "    return out"
      ],
      "execution_count": 45,
      "outputs": []
    },
    {
      "cell_type": "code",
      "metadata": {
        "id": "3X0GZIZvUEP2"
      },
      "source": [
        "model = RNN(input_size, hidden_size, num_layers, num_classes).to(device)"
      ],
      "execution_count": 50,
      "outputs": []
    },
    {
      "cell_type": "code",
      "metadata": {
        "id": "hu8evlSIUJ79"
      },
      "source": [
        "def ComputeAccr(dloader, imodel):\n",
        "  correct = 0\n",
        "  total = 0\n",
        "\n",
        "  for j, [imgs, labels] in enumerate(dloader):\n",
        "    # x; (batch_size, 1, seq_length, input_size) -> (batch_size, seq_length, input_size)\n",
        "    img = imgs\n",
        "    img = img.reshape(-1, sequence_length, input_size).to(device)\n",
        "\n",
        "    # y: (batch_size, num_classes)\n",
        "    labels = labels.to(device)\n",
        "    \n",
        "    output = imodel(img)\n",
        "    _, output_index = torch.max(output, 1)\n",
        "\n",
        "    total += labels.size(0)\n",
        "    correct += (output_index == labels).sum().float()\n",
        "\n",
        "  return (100*correct/total)"
      ],
      "execution_count": 53,
      "outputs": []
    },
    {
      "cell_type": "code",
      "metadata": {
        "colab": {
          "base_uri": "https://localhost:8080/"
        },
        "id": "SWvQWS3BVOQc",
        "outputId": "09d4b7a4-0021-41b0-f2c2-8b551908bf34"
      },
      "source": [
        "print(f\"Accuracy of Test Data: {ComputeAccr(test_loader, model)}\")"
      ],
      "execution_count": 54,
      "outputs": [
        {
          "output_type": "stream",
          "text": [
            "Accuracy of Test Data: 10.09000015258789\n"
          ],
          "name": "stdout"
        }
      ]
    },
    {
      "cell_type": "markdown",
      "metadata": {
        "id": "khCJuItzWH4G"
      },
      "source": [
        "# (5) loss function, optimizer"
      ]
    },
    {
      "cell_type": "code",
      "metadata": {
        "id": "E9BdRG9cVcgR"
      },
      "source": [
        "loss_func = nn.CrossEntropyLoss()\n",
        "optimizer = torch.optim.Adam(model.parameters(), lr=learning_rate)"
      ],
      "execution_count": 55,
      "outputs": []
    },
    {
      "cell_type": "markdown",
      "metadata": {
        "id": "nWAmXcbZWV_k"
      },
      "source": [
        "# (6) train"
      ]
    },
    {
      "cell_type": "code",
      "metadata": {
        "colab": {
          "base_uri": "https://localhost:8080/"
        },
        "id": "zDmBMdQ3WSAd",
        "outputId": "290fa053-d92f-4930-d124-e2ea0a2de41f"
      },
      "source": [
        "total_step = len(train_loader)\n",
        "for epochs in range(num_epochs):\n",
        "  for i, [imgs, labels] in enumerate(train_loader):\n",
        "    img = imgs\n",
        "    img = img.reshape(-1, sequence_length, input_size).to(device)\n",
        "\n",
        "    labels = labels.to(device)\n",
        "\n",
        "    outputs = model(img)\n",
        "    loss = loss_func(outputs, labels)\n",
        "\n",
        "    optimizer.zero_grad()\n",
        "    loss.backward()\n",
        "    optimizer.step()\n",
        "\n",
        "    if (i+1) % 100 == 0:\n",
        "      print(f\"Epoch [{epochs+1}/{num_epochs}], Step [{i+1}/{total_step}], loss: {loss.item()}, Accr: {ComputeAccr(test_loader, model)}\")"
      ],
      "execution_count": 58,
      "outputs": [
        {
          "output_type": "stream",
          "text": [
            "Epoch [1/2], Step [100/600], loss: 0.05954687297344208, Accr: 97.18999481201172\n",
            "Epoch [1/2], Step [200/600], loss: 0.153119757771492, Accr: 96.97999572753906\n",
            "Epoch [1/2], Step [300/600], loss: 0.05378260463476181, Accr: 97.29999542236328\n",
            "Epoch [1/2], Step [400/600], loss: 0.06527180969715118, Accr: 97.52999877929688\n",
            "Epoch [1/2], Step [500/600], loss: 0.20690388977527618, Accr: 97.45999908447266\n",
            "Epoch [1/2], Step [600/600], loss: 0.14974823594093323, Accr: 97.73999786376953\n",
            "Epoch [2/2], Step [100/600], loss: 0.09696631133556366, Accr: 97.58999633789062\n",
            "Epoch [2/2], Step [200/600], loss: 0.011612411588430405, Accr: 97.93000030517578\n",
            "Epoch [2/2], Step [300/600], loss: 0.024327421560883522, Accr: 97.89999389648438\n",
            "Epoch [2/2], Step [400/600], loss: 0.06923641264438629, Accr: 97.98999786376953\n",
            "Epoch [2/2], Step [500/600], loss: 0.08636899292469025, Accr: 97.5199966430664\n",
            "Epoch [2/2], Step [600/600], loss: 0.17245979607105255, Accr: 97.87999725341797\n"
          ],
          "name": "stdout"
        }
      ]
    },
    {
      "cell_type": "code",
      "metadata": {
        "id": "eXoetG20osia"
      },
      "source": [
        ""
      ],
      "execution_count": null,
      "outputs": []
    }
  ]
}